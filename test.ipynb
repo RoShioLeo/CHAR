{
 "cells": [
  {
   "cell_type": "code",
   "execution_count": 2,
   "metadata": {},
   "outputs": [
    {
     "name": "stdout",
     "output_type": "stream",
     "text": [
      "炎帝姜姓，號烈山氏，一作厲山氏。傅說中上古姜姓部落首領。少典娶有嬌氏女而生。\n"
     ]
    }
   ],
   "source": [
    "from char_converter import CharConverter\n",
    "\n",
    "converter = CharConverter('v2t')\n",
    "converted_text = converter.convert('炎帝姜姓，號烈山氏，一作厲山氏。傳說中上古姜姓部落首領。少典娶有嬌氏女而生。')\n",
    "print(converted_text)"
   ]
  }
 ],
 "metadata": {
  "kernelspec": {
   "display_name": "Python 3",
   "language": "python",
   "name": "python3"
  },
  "language_info": {
   "codemirror_mode": {
    "name": "ipython",
    "version": 3
   },
   "file_extension": ".py",
   "mimetype": "text/x-python",
   "name": "python",
   "nbconvert_exporter": "python",
   "pygments_lexer": "ipython3",
   "version": "3.10.9"
  },
  "orig_nbformat": 4
 },
 "nbformat": 4,
 "nbformat_minor": 2
}
