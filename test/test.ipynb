{
 "cells": [
  {
   "cell_type": "code",
   "execution_count": null,
   "metadata": {},
   "outputs": [],
   "source": [
    "!pip install char_converter"
   ]
  },
  {
   "cell_type": "code",
   "execution_count": 1,
   "metadata": {},
   "outputs": [],
   "source": [
    "from char_converter import CharConverter"
   ]
  },
  {
   "cell_type": "code",
   "execution_count": 2,
   "metadata": {},
   "outputs": [
    {
     "name": "stdout",
     "output_type": "stream",
     "text": [
      "苟餘情其信姱以練要兮，長顑頷亦何傷。\n"
     ]
    }
   ],
   "source": [
    "# Convert variant characters to standard traditional characters\n",
    "\n",
    "text = '苟馀情其訫姱㠯练要兮，镸顑頷亦何伤。'\n",
    "\n",
    "converter = CharConverter('v2t')\n",
    "converted_text = converter.convert(text)\n",
    "\n",
    "print(converted_text)"
   ]
  },
  {
   "cell_type": "code",
   "execution_count": 3,
   "metadata": {},
   "outputs": [
    {
     "name": "stdout",
     "output_type": "stream",
     "text": [
      "苟余情其信姱以练要兮，长顑颔亦何伤。\n"
     ]
    }
   ],
   "source": [
    "# Convert variant characters to standard simplified characters\n",
    "\n",
    "text = '苟馀情其訫姱㠯练要兮，镸顑頷亦何伤。'\n",
    "\n",
    "converter = CharConverter('v2s')\n",
    "converted_text = converter.convert(text)\n",
    "\n",
    "print(converted_text)"
   ]
  }
 ],
 "metadata": {
  "kernelspec": {
   "display_name": "Python 3",
   "language": "python",
   "name": "python3"
  },
  "language_info": {
   "codemirror_mode": {
    "name": "ipython",
    "version": 3
   },
   "file_extension": ".py",
   "mimetype": "text/x-python",
   "name": "python",
   "nbconvert_exporter": "python",
   "pygments_lexer": "ipython3",
   "version": "3.10.9"
  },
  "orig_nbformat": 4
 },
 "nbformat": 4,
 "nbformat_minor": 2
}
